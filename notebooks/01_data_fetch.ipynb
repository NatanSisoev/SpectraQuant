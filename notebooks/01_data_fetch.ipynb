{
 "cells": [
  {
   "metadata": {
    "ExecuteTime": {
     "end_time": "2025-04-17T14:05:38.506714Z",
     "start_time": "2025-04-17T14:05:38.499389Z"
    }
   },
   "cell_type": "code",
   "source": "from datetime import datetime",
   "id": "c942bb0df966b1dd",
   "outputs": [],
   "execution_count": 7
  },
  {
   "metadata": {
    "collapsed": true,
    "ExecuteTime": {
     "end_time": "2025-04-17T19:03:51.114209Z",
     "start_time": "2025-04-17T19:03:51.102958Z"
    }
   },
   "cell_type": "code",
   "source": [
    "from alpaca.data.historical import CryptoHistoricalDataClient\n",
    "from alpaca.data.timeframe import TimeFrame, TimeFrameUnit\n",
    "\n",
    "# No keys required for crypto data\n",
    "client = CryptoHistoricalDataClient()"
   ],
   "id": "initial_id",
   "outputs": [],
   "execution_count": 22
  },
  {
   "metadata": {
    "ExecuteTime": {
     "end_time": "2025-04-17T14:05:49.313053Z",
     "start_time": "2025-04-17T14:05:49.301015Z"
    }
   },
   "cell_type": "code",
   "source": [
    "from alpaca.data.requests import CryptoBarsRequest\n",
    "from alpaca.data.timeframe import TimeFrame\n",
    "\n",
    "# Creating request object\n",
    "request_params = CryptoBarsRequest(\n",
    "  symbol_or_symbols=[\"BTC/USD\"],\n",
    "  timeframe=TimeFrame.Day,\n",
    "  start=datetime(2022, 9, 1),\n",
    "  end=datetime(2022, 9, 7)\n",
    ")\n"
   ],
   "id": "bb25e0522a2f2b62",
   "outputs": [],
   "execution_count": 10
  },
  {
   "metadata": {
    "ExecuteTime": {
     "end_time": "2025-04-17T19:32:34.841690Z",
     "start_time": "2025-04-17T19:32:34.836902Z"
    }
   },
   "cell_type": "code",
   "source": "print(\"{f}{g}\".format(f=\"gggggggf\", g=\"ggg\", l=\"000\"))",
   "id": "fbc4a441e65f74c9",
   "outputs": [
    {
     "name": "stdout",
     "output_type": "stream",
     "text": [
      "gggggggfggg\n"
     ]
    }
   ],
   "execution_count": 32
  },
  {
   "metadata": {
    "ExecuteTime": {
     "end_time": "2025-04-17T14:06:12.952003Z",
     "start_time": "2025-04-17T14:06:12.386923Z"
    }
   },
   "cell_type": "code",
   "source": [
    "# Retrieve daily bars for Bitcoin in a DataFrame and printing it\n",
    "btc_bars = client.get_crypto_bars(request_params)\n",
    "\n",
    "# Convert to dataframe\n",
    "btc_bars.df"
   ],
   "id": "dccc56c5d6a88b2d",
   "outputs": [
    {
     "data": {
      "text/plain": [
       "                                       open      high       low     close  \\\n",
       "symbol  timestamp                                                           \n",
       "BTC/USD 2022-09-01 05:00:00+00:00  20055.79  20292.00  19564.86  20156.76   \n",
       "        2022-09-02 05:00:00+00:00  20156.76  20444.00  19757.72  19919.47   \n",
       "        2022-09-03 05:00:00+00:00  19924.83  19968.20  19658.04  19806.11   \n",
       "        2022-09-04 05:00:00+00:00  19805.39  20058.00  19587.86  19888.67   \n",
       "        2022-09-05 05:00:00+00:00  19888.67  20180.50  19635.96  19760.56   \n",
       "        2022-09-06 05:00:00+00:00  19761.39  20026.91  18534.06  18724.59   \n",
       "\n",
       "                                         volume  trade_count          vwap  \n",
       "symbol  timestamp                                                           \n",
       "BTC/USD 2022-09-01 05:00:00+00:00   7141.975485     110122.0  19934.167845  \n",
       "        2022-09-02 05:00:00+00:00   7165.911879      96231.0  20075.200868  \n",
       "        2022-09-03 05:00:00+00:00   2677.652012      51551.0  19800.185480  \n",
       "        2022-09-04 05:00:00+00:00   4325.678790      62082.0  19834.451414  \n",
       "        2022-09-05 05:00:00+00:00   6274.552824      84784.0  19812.095982  \n",
       "        2022-09-06 05:00:00+00:00  11217.789784     128106.0  19266.835520  "
      ],
      "text/html": [
       "<div>\n",
       "<style scoped>\n",
       "    .dataframe tbody tr th:only-of-type {\n",
       "        vertical-align: middle;\n",
       "    }\n",
       "\n",
       "    .dataframe tbody tr th {\n",
       "        vertical-align: top;\n",
       "    }\n",
       "\n",
       "    .dataframe thead th {\n",
       "        text-align: right;\n",
       "    }\n",
       "</style>\n",
       "<table border=\"1\" class=\"dataframe\">\n",
       "  <thead>\n",
       "    <tr style=\"text-align: right;\">\n",
       "      <th></th>\n",
       "      <th></th>\n",
       "      <th>open</th>\n",
       "      <th>high</th>\n",
       "      <th>low</th>\n",
       "      <th>close</th>\n",
       "      <th>volume</th>\n",
       "      <th>trade_count</th>\n",
       "      <th>vwap</th>\n",
       "    </tr>\n",
       "    <tr>\n",
       "      <th>symbol</th>\n",
       "      <th>timestamp</th>\n",
       "      <th></th>\n",
       "      <th></th>\n",
       "      <th></th>\n",
       "      <th></th>\n",
       "      <th></th>\n",
       "      <th></th>\n",
       "      <th></th>\n",
       "    </tr>\n",
       "  </thead>\n",
       "  <tbody>\n",
       "    <tr>\n",
       "      <th rowspan=\"6\" valign=\"top\">BTC/USD</th>\n",
       "      <th>2022-09-01 05:00:00+00:00</th>\n",
       "      <td>20055.79</td>\n",
       "      <td>20292.00</td>\n",
       "      <td>19564.86</td>\n",
       "      <td>20156.76</td>\n",
       "      <td>7141.975485</td>\n",
       "      <td>110122.0</td>\n",
       "      <td>19934.167845</td>\n",
       "    </tr>\n",
       "    <tr>\n",
       "      <th>2022-09-02 05:00:00+00:00</th>\n",
       "      <td>20156.76</td>\n",
       "      <td>20444.00</td>\n",
       "      <td>19757.72</td>\n",
       "      <td>19919.47</td>\n",
       "      <td>7165.911879</td>\n",
       "      <td>96231.0</td>\n",
       "      <td>20075.200868</td>\n",
       "    </tr>\n",
       "    <tr>\n",
       "      <th>2022-09-03 05:00:00+00:00</th>\n",
       "      <td>19924.83</td>\n",
       "      <td>19968.20</td>\n",
       "      <td>19658.04</td>\n",
       "      <td>19806.11</td>\n",
       "      <td>2677.652012</td>\n",
       "      <td>51551.0</td>\n",
       "      <td>19800.185480</td>\n",
       "    </tr>\n",
       "    <tr>\n",
       "      <th>2022-09-04 05:00:00+00:00</th>\n",
       "      <td>19805.39</td>\n",
       "      <td>20058.00</td>\n",
       "      <td>19587.86</td>\n",
       "      <td>19888.67</td>\n",
       "      <td>4325.678790</td>\n",
       "      <td>62082.0</td>\n",
       "      <td>19834.451414</td>\n",
       "    </tr>\n",
       "    <tr>\n",
       "      <th>2022-09-05 05:00:00+00:00</th>\n",
       "      <td>19888.67</td>\n",
       "      <td>20180.50</td>\n",
       "      <td>19635.96</td>\n",
       "      <td>19760.56</td>\n",
       "      <td>6274.552824</td>\n",
       "      <td>84784.0</td>\n",
       "      <td>19812.095982</td>\n",
       "    </tr>\n",
       "    <tr>\n",
       "      <th>2022-09-06 05:00:00+00:00</th>\n",
       "      <td>19761.39</td>\n",
       "      <td>20026.91</td>\n",
       "      <td>18534.06</td>\n",
       "      <td>18724.59</td>\n",
       "      <td>11217.789784</td>\n",
       "      <td>128106.0</td>\n",
       "      <td>19266.835520</td>\n",
       "    </tr>\n",
       "  </tbody>\n",
       "</table>\n",
       "</div>"
      ]
     },
     "execution_count": 11,
     "metadata": {},
     "output_type": "execute_result"
    }
   ],
   "execution_count": 11
  }
 ],
 "metadata": {
  "kernelspec": {
   "display_name": "Python 3",
   "language": "python",
   "name": "python3"
  },
  "language_info": {
   "codemirror_mode": {
    "name": "ipython",
    "version": 2
   },
   "file_extension": ".py",
   "mimetype": "text/x-python",
   "name": "python",
   "nbconvert_exporter": "python",
   "pygments_lexer": "ipython2",
   "version": "2.7.6"
  }
 },
 "nbformat": 4,
 "nbformat_minor": 5
}
